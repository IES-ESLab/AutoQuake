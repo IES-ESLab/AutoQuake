{
 "cells": [
  {
   "cell_type": "markdown",
   "metadata": {},
   "source": [
    "### Run AutoQuake\n",
    "#### Directory structure\n",
    "##### SAC data (sac_parent_dir / date / *.SAC)\n",
    "```\n",
    "SAC/ -> sac_parent_dir     \n",
    "└── 20240401/ -> date      \n",
    "    ├── TW.station.00.HHZ.D.2024,093,20:22:12.SAC     \n",
    "    └── TW.station.00.HHZ.D.2024,093,22:35:17.SAC            \n",
    "```\n",
    "##### HDF5 (h5_parent_dir / date / time_window.h5)\n",
    "```\n",
    "Hualien_0403_MiDAS/ -> h5_parent_dir     \n",
    "└── 20240401/ -> date       \n",
    "    ├── MiDAS_20240403_80700_81000.h5 -> time_window.h5     \n",
    "    └── MiDAS_20240403_8100_8400.h5 \n",
    "```\n",
    "##### PZ file (pz_dir / *.pz)\n",
    "```\n",
    "pz_dir/ -> pz_dir     \n",
    "├── SAC_PZs_TW_ZUZH_HH1_00_2019.001.00.00.00.0000_2599.365.23.59.59.99999\n",
    "└── SAC_PZs_TW_ZUZH_HNZ_10_2019.001.00.00.00.0000_2599.365.23.59.59.99999\n",
    "```\n",
    "Date would acquire througth the reading of the gamma_events.csv from GaMMA.  \n",
    "The reason why we need date is to automatically find the sac data due to we might have the events across the day."
   ]
  },
  {
   "cell_type": "markdown",
   "metadata": {},
   "source": [
    "### Scenarios (Seiemomter only, ~~DAS only, Both~~)\n",
    "#### Seismometer only\n"
   ]
  },
  {
   "cell_type": "markdown",
   "metadata": {},
   "source": [
    "##### 1. Define the **Path** and some important parameters for later use."
   ]
  },
  {
   "cell_type": "code",
   "execution_count": 1,
   "metadata": {},
   "outputs": [],
   "source": [
    "from pathlib import Path\n",
    "\n",
    "your_repository_path = Path('/home/patrick/Work/AutoQuake')\n",
    "result_path = your_repository_path / 'result_test'\n",
    "sac_parent_dir = Path('/raid1/share/for_patrick/AutoQuake_testset/SAC') # this is the testset, u can try it.\n",
    "startdate = '20240402'\n",
    "enddate = '20240402' # using same startdate and enddate for single day test.\n",
    "station = Path('/raid1/share/for_patrick/AutoQuake_testset/station_seis.csv')\n",
    "pz_dir = Path('/raid1/share/for_patrick/AutoQuake_testset/PZ_dir/')\n",
    "model_3d = your_repository_path / 'H3DD' / 'tomops_H14'\n",
    "gamma_vel_model = Path('/raid1/share/for_patrick/AutoQuake_testset/vel_model/Hualien_1D.vel')"
   ]
  },
  {
   "cell_type": "markdown",
   "metadata": {},
   "source": [
    "##### 2. Create the object for each step.       \n",
    "       \n",
    "> **⚠️ Important:** Please check the detailed argument in the class if u want further manipulation, or you can just put your mouse on the PhaseNet object to see its docstring supported by VScode."
   ]
  },
  {
   "cell_type": "markdown",
   "metadata": {},
   "source": [
    "-  PhaseNet    "
   ]
  },
  {
   "cell_type": "code",
   "execution_count": 3,
   "metadata": {},
   "outputs": [],
   "source": [
    "from autoquake.picker import PhaseNet\n",
    "\n",
    "phasenet = PhaseNet(\n",
    "    data_parent_dir=sac_parent_dir,\n",
    "    start_ymd=startdate,\n",
    "    end_ymd=enddate,\n",
    "    result_path=result_path,\n",
    "    format='SAC',\n",
    "    model='phasenet',\n",
    "    device='cpu',\n",
    ")"
   ]
  },
  {
   "cell_type": "markdown",
   "metadata": {},
   "source": [
    "-  GaMMA   "
   ]
  },
  {
   "cell_type": "code",
   "execution_count": 4,
   "metadata": {},
   "outputs": [],
   "source": [
    "from autoquake.associator import GaMMA\n",
    "\n",
    "gamma = GaMMA(\n",
    "    station=station,\n",
    "    result_path=result_path,\n",
    "    pickings=phasenet.picks, # we use the attribute from PhaseNet object, make sure PhaseNet object has been created.\n",
    "    vel_model=gamma_vel_model,\n",
    ")"
   ]
  },
  {
   "cell_type": "markdown",
   "metadata": {},
   "source": [
    "-  H3DD    "
   ]
  },
  {
   "cell_type": "code",
   "execution_count": 4,
   "metadata": {},
   "outputs": [
    {
     "name": "stdout",
     "output_type": "stream",
     "text": [
      "cp from /home/patrick/Work/AutoQuake/H3DD/tomops_H14 to /data2/patrick/AutoQuake/H3DD\n"
     ]
    },
    {
     "name": "stderr",
     "output_type": "stream",
     "text": [
      "cp: ‘/home/patrick/Work/AutoQuake/H3DD/tomops_H14’ and ‘/data2/patrick/AutoQuake/H3DD/tomops_H14’ are the same file\n"
     ]
    }
   ],
   "source": [
    "from autoquake.relocator import H3DD\n",
    "\n",
    "h3dd = H3DD(\n",
    "    gamma_event=gamma.events, # gamma attribute.\n",
    "    gamma_picks=gamma.picks, # gamma attribute.\n",
    "    station=gamma.station, # gamma attribute.\n",
    "    model_3d=model_3d,\n",
    "    event_name=result_path.name, \n",
    ")"
   ]
  },
  {
   "cell_type": "markdown",
   "metadata": {},
   "source": [
    "##### 3-1. Run it through default scenario: AutoQuake       \n",
    "> **⚠️ Important:** Since the important parameter setting only on **PhaseNet**, **GaMMA**, and **H3DD**, you can just put the object of these three steps into the run_autoquake function, and providing a **PZ_dir** contains the pz file. The **magnitude**, **polarity**, also **GAfocal** would use the result from these steps."
   ]
  },
  {
   "cell_type": "code",
   "execution_count": 5,
   "metadata": {},
   "outputs": [
    {
     "name": "stdout",
     "output_type": "stream",
     "text": [
      "Not using distributed mode\n",
      "Total samples:  /raid1/share/for_patrick/AutoQuake_testset/SAC/20240402/.SAC : 39 files\n"
     ]
    },
    {
     "name": "stderr",
     "output_type": "stream",
     "text": [
      "Predicting:   0%|          | 0/39 [00:00<?, ?it/s]"
     ]
    },
    {
     "name": "stdout",
     "output_type": "stream",
     "text": [
      "/raid1/share/for_patrick/AutoQuake_testset/SAC/20240402/TW.ESA.10.HN*\n"
     ]
    },
    {
     "name": "stderr",
     "output_type": "stream",
     "text": [
      "Predicting:   3%|▎         | 1/39 [00:10<06:26, 10.16s/it]"
     ]
    },
    {
     "name": "stdout",
     "output_type": "stream",
     "text": [
      "/raid1/share/for_patrick/AutoQuake_testset/SAC/20240402/TW.FUSS.00.HH*\n"
     ]
    },
    {
     "name": "stderr",
     "output_type": "stream",
     "text": [
      "Predicting:   5%|▌         | 2/39 [00:19<05:51,  9.49s/it]"
     ]
    },
    {
     "name": "stdout",
     "output_type": "stream",
     "text": [
      "/raid1/share/for_patrick/AutoQuake_testset/SAC/20240402/TW.LDU.00.HH*\n"
     ]
    },
    {
     "name": "stderr",
     "output_type": "stream",
     "text": [
      "Predicting:   8%|▊         | 3/39 [00:27<05:28,  9.12s/it]"
     ]
    },
    {
     "name": "stdout",
     "output_type": "stream",
     "text": [
      "/raid1/share/for_patrick/AutoQuake_testset/SAC/20240402/TW.SHUL.00.HH*\n"
     ]
    },
    {
     "name": "stderr",
     "output_type": "stream",
     "text": [
      "Predicting:  10%|█         | 4/39 [00:36<05:11,  8.90s/it]"
     ]
    },
    {
     "name": "stdout",
     "output_type": "stream",
     "text": [
      "/raid1/share/for_patrick/AutoQuake_testset/SAC/20240402/TW.WCKO.00.HH*\n"
     ]
    },
    {
     "name": "stderr",
     "output_type": "stream",
     "text": [
      "Predicting:  13%|█▎        | 5/39 [00:44<04:52,  8.61s/it]"
     ]
    },
    {
     "name": "stdout",
     "output_type": "stream",
     "text": [
      "/raid1/share/for_patrick/AutoQuake_testset/SAC/20240402/TW.WCS.00.HN*\n"
     ]
    },
    {
     "name": "stderr",
     "output_type": "stream",
     "text": [
      "Predicting:  15%|█▌        | 6/39 [00:52<04:33,  8.30s/it]"
     ]
    },
    {
     "name": "stdout",
     "output_type": "stream",
     "text": [
      "/raid1/share/for_patrick/AutoQuake_testset/SAC/20240402/TW.EWT.00.HH*\n"
     ]
    },
    {
     "name": "stderr",
     "output_type": "stream",
     "text": [
      "Predicting:  18%|█▊        | 7/39 [01:01<04:38,  8.71s/it]"
     ]
    },
    {
     "name": "stdout",
     "output_type": "stream",
     "text": [
      "/raid1/share/for_patrick/AutoQuake_testset/SAC/20240402/TW.SM06.00.HL*\n"
     ]
    },
    {
     "name": "stderr",
     "output_type": "stream",
     "text": [
      "Predicting:  21%|██        | 8/39 [01:11<04:42,  9.12s/it]"
     ]
    },
    {
     "name": "stdout",
     "output_type": "stream",
     "text": [
      "/raid1/share/for_patrick/AutoQuake_testset/SAC/20240402/TW.HWA.00.HH*\n"
     ]
    },
    {
     "name": "stderr",
     "output_type": "stream",
     "text": [
      "Predicting:  23%|██▎       | 9/39 [01:21<04:37,  9.27s/it]"
     ]
    },
    {
     "name": "stdout",
     "output_type": "stream",
     "text": [
      "/raid1/share/for_patrick/AutoQuake_testset/SAC/20240402/TW.EOS2.20.EH*\n"
     ]
    },
    {
     "name": "stderr",
     "output_type": "stream",
     "text": [
      "Predicting:  26%|██▌       | 10/39 [01:30<04:31,  9.35s/it]"
     ]
    },
    {
     "name": "stdout",
     "output_type": "stream",
     "text": [
      "/raid1/share/for_patrick/AutoQuake_testset/SAC/20240402/TW.WHP.00.HH*\n"
     ]
    },
    {
     "name": "stderr",
     "output_type": "stream",
     "text": [
      "Predicting:  28%|██▊       | 11/39 [01:39<04:17,  9.18s/it]"
     ]
    },
    {
     "name": "stdout",
     "output_type": "stream",
     "text": [
      "/raid1/share/for_patrick/AutoQuake_testset/SAC/20240402/TW.NDS.00.HH*\n"
     ]
    },
    {
     "name": "stderr",
     "output_type": "stream",
     "text": [
      "Predicting:  31%|███       | 12/39 [01:48<04:04,  9.07s/it]"
     ]
    },
    {
     "name": "stdout",
     "output_type": "stream",
     "text": [
      "/raid1/share/for_patrick/AutoQuake_testset/SAC/20240402/TW.CHKH.00.HH*\n"
     ]
    },
    {
     "name": "stderr",
     "output_type": "stream",
     "text": [
      "Predicting:  33%|███▎      | 13/39 [01:57<03:52,  8.96s/it]"
     ]
    },
    {
     "name": "stdout",
     "output_type": "stream",
     "text": [
      "/raid1/share/for_patrick/AutoQuake_testset/SAC/20240402/TW.EOS4.20.EH*\n"
     ]
    },
    {
     "name": "stderr",
     "output_type": "stream",
     "text": [
      "Predicting:  36%|███▌      | 14/39 [02:05<03:40,  8.82s/it]"
     ]
    },
    {
     "name": "stdout",
     "output_type": "stream",
     "text": [
      "/raid1/share/for_patrick/AutoQuake_testset/SAC/20240402/TW.ESA.00.HN*\n"
     ]
    },
    {
     "name": "stderr",
     "output_type": "stream",
     "text": [
      "Predicting:  38%|███▊      | 15/39 [02:15<03:38,  9.10s/it]"
     ]
    },
    {
     "name": "stdout",
     "output_type": "stream",
     "text": [
      "/raid1/share/for_patrick/AutoQuake_testset/SAC/20240402/TW.SSLB..HH*\n"
     ]
    },
    {
     "name": "stderr",
     "output_type": "stream",
     "text": [
      "Predicting:  41%|████      | 16/39 [02:24<03:29,  9.12s/it]"
     ]
    },
    {
     "name": "stdout",
     "output_type": "stream",
     "text": [
      "/raid1/share/for_patrick/AutoQuake_testset/SAC/20240402/TW.SM09.00.HL*\n"
     ]
    },
    {
     "name": "stderr",
     "output_type": "stream",
     "text": [
      "Predicting:  44%|████▎     | 17/39 [02:33<03:19,  9.08s/it]"
     ]
    },
    {
     "name": "stdout",
     "output_type": "stream",
     "text": [
      "/raid1/share/for_patrick/AutoQuake_testset/SAC/20240402/TW.WHY.10.HN*\n"
     ]
    },
    {
     "name": "stderr",
     "output_type": "stream",
     "text": [
      "Predicting:  46%|████▌     | 18/39 [02:36<02:33,  7.31s/it]"
     ]
    },
    {
     "name": "stdout",
     "output_type": "stream",
     "text": [
      "/raid1/share/for_patrick/AutoQuake_testset/SAC/20240402/TW.TDCB..HH*\n"
     ]
    },
    {
     "name": "stderr",
     "output_type": "stream",
     "text": [
      "Predicting:  49%|████▊     | 19/39 [02:46<02:37,  7.88s/it]"
     ]
    },
    {
     "name": "stdout",
     "output_type": "stream",
     "text": [
      "/raid1/share/for_patrick/AutoQuake_testset/SAC/20240402/TW.YHNB..HH*\n"
     ]
    },
    {
     "name": "stderr",
     "output_type": "stream",
     "text": [
      "Predicting:  51%|█████▏    | 20/39 [02:54<02:34,  8.13s/it]"
     ]
    },
    {
     "name": "stdout",
     "output_type": "stream",
     "text": [
      "/raid1/share/for_patrick/AutoQuake_testset/SAC/20240402/TW.EAH.10.HN*\n"
     ]
    },
    {
     "name": "stderr",
     "output_type": "stream",
     "text": [
      "Predicting:  54%|█████▍    | 21/39 [03:04<02:32,  8.49s/it]"
     ]
    },
    {
     "name": "stdout",
     "output_type": "stream",
     "text": [
      "/raid1/share/for_patrick/AutoQuake_testset/SAC/20240402/TW.NACB..HH*\n"
     ]
    },
    {
     "name": "stderr",
     "output_type": "stream",
     "text": [
      "Predicting:  56%|█████▋    | 22/39 [03:13<02:29,  8.79s/it]"
     ]
    },
    {
     "name": "stdout",
     "output_type": "stream",
     "text": [
      "/raid1/share/for_patrick/AutoQuake_testset/SAC/20240402/TW.SYNB..HH*\n"
     ]
    },
    {
     "name": "stderr",
     "output_type": "stream",
     "text": [
      "Predicting:  59%|█████▉    | 23/39 [03:22<02:23,  8.98s/it]"
     ]
    },
    {
     "name": "stdout",
     "output_type": "stream",
     "text": [
      "/raid1/share/for_patrick/AutoQuake_testset/SAC/20240402/TW.TPUB..HH*\n"
     ]
    },
    {
     "name": "stderr",
     "output_type": "stream",
     "text": [
      "Predicting:  62%|██████▏   | 24/39 [03:32<02:17,  9.18s/it]"
     ]
    },
    {
     "name": "stdout",
     "output_type": "stream",
     "text": [
      "/raid1/share/for_patrick/AutoQuake_testset/SAC/20240402/TW.EHYH.00.HH*\n"
     ]
    },
    {
     "name": "stderr",
     "output_type": "stream",
     "text": [
      "Predicting:  64%|██████▍   | 25/39 [03:41<02:09,  9.24s/it]"
     ]
    },
    {
     "name": "stdout",
     "output_type": "stream",
     "text": [
      "/raid1/share/for_patrick/AutoQuake_testset/SAC/20240402/TW.LYUB..HH*\n"
     ]
    },
    {
     "name": "stderr",
     "output_type": "stream",
     "text": [
      "Predicting:  67%|██████▋   | 26/39 [03:50<01:58,  9.11s/it]"
     ]
    },
    {
     "name": "stdout",
     "output_type": "stream",
     "text": [
      "/raid1/share/for_patrick/AutoQuake_testset/SAC/20240402/TW.FUSB..HH*\n"
     ]
    },
    {
     "name": "stderr",
     "output_type": "stream",
     "text": [
      "Predicting:  69%|██████▉   | 27/39 [03:59<01:48,  9.02s/it]"
     ]
    },
    {
     "name": "stdout",
     "output_type": "stream",
     "text": [
      "/raid1/share/for_patrick/AutoQuake_testset/SAC/20240402/TW.LATB..HH*\n"
     ]
    },
    {
     "name": "stderr",
     "output_type": "stream",
     "text": [
      "Predicting:  72%|███████▏  | 28/39 [04:08<01:39,  9.03s/it]"
     ]
    },
    {
     "name": "stdout",
     "output_type": "stream",
     "text": [
      "/raid1/share/for_patrick/AutoQuake_testset/SAC/20240402/TW.EOS3.20.EH*\n"
     ]
    },
    {
     "name": "stderr",
     "output_type": "stream",
     "text": [
      "Predicting:  74%|███████▍  | 29/39 [04:17<01:29,  8.97s/it]"
     ]
    },
    {
     "name": "stdout",
     "output_type": "stream",
     "text": [
      "/raid1/share/for_patrick/AutoQuake_testset/SAC/20240402/TW.WUSB..HH*\n"
     ]
    },
    {
     "name": "stderr",
     "output_type": "stream",
     "text": [
      "Predicting:  77%|███████▋  | 30/39 [04:26<01:21,  9.09s/it]"
     ]
    },
    {
     "name": "stdout",
     "output_type": "stream",
     "text": [
      "/raid1/share/for_patrick/AutoQuake_testset/SAC/20240402/TW.ETLH.00.HH*\n"
     ]
    },
    {
     "name": "stderr",
     "output_type": "stream",
     "text": [
      "Predicting:  79%|███████▉  | 31/39 [04:34<01:08,  8.58s/it]"
     ]
    },
    {
     "name": "stdout",
     "output_type": "stream",
     "text": [
      "/raid1/share/for_patrick/AutoQuake_testset/SAC/20240402/TW.NNSH.00.HH*\n"
     ]
    },
    {
     "name": "stderr",
     "output_type": "stream",
     "text": [
      "Predicting:  82%|████████▏ | 32/39 [04:42<00:59,  8.57s/it]"
     ]
    },
    {
     "name": "stdout",
     "output_type": "stream",
     "text": [
      "/raid1/share/for_patrick/AutoQuake_testset/SAC/20240402/TW.GWUB..HH*\n"
     ]
    },
    {
     "name": "stderr",
     "output_type": "stream",
     "text": [
      "Predicting:  85%|████████▍ | 33/39 [04:50<00:50,  8.41s/it]"
     ]
    },
    {
     "name": "stdout",
     "output_type": "stream",
     "text": [
      "/raid1/share/for_patrick/AutoQuake_testset/SAC/20240402/TW.SM39.00.HL*\n"
     ]
    },
    {
     "name": "stderr",
     "output_type": "stream",
     "text": [
      "Predicting:  87%|████████▋ | 34/39 [04:59<00:42,  8.52s/it]"
     ]
    },
    {
     "name": "stdout",
     "output_type": "stream",
     "text": [
      "/raid1/share/for_patrick/AutoQuake_testset/SAC/20240402/TW.SM02.00.HL*\n"
     ]
    },
    {
     "name": "stderr",
     "output_type": "stream",
     "text": [
      "Predicting:  90%|████████▉ | 35/39 [05:08<00:34,  8.53s/it]"
     ]
    },
    {
     "name": "stdout",
     "output_type": "stream",
     "text": [
      "/raid1/share/for_patrick/AutoQuake_testset/SAC/20240402/TW.HOPB..HH*\n"
     ]
    },
    {
     "name": "stderr",
     "output_type": "stream",
     "text": [
      "Predicting:  92%|█████████▏| 36/39 [05:16<00:25,  8.46s/it]"
     ]
    },
    {
     "name": "stdout",
     "output_type": "stream",
     "text": [
      "/raid1/share/for_patrick/AutoQuake_testset/SAC/20240402/TW.YULB..HH*\n"
     ]
    },
    {
     "name": "stderr",
     "output_type": "stream",
     "text": [
      "Predicting:  95%|█████████▍| 37/39 [05:25<00:16,  8.50s/it]"
     ]
    },
    {
     "name": "stdout",
     "output_type": "stream",
     "text": [
      "/raid1/share/for_patrick/AutoQuake_testset/SAC/20240402/TW.HGSD..HH*\n"
     ]
    },
    {
     "name": "stderr",
     "output_type": "stream",
     "text": [
      "Predicting:  97%|█████████▋| 38/39 [05:33<00:08,  8.37s/it]"
     ]
    },
    {
     "name": "stdout",
     "output_type": "stream",
     "text": [
      "/raid1/share/for_patrick/AutoQuake_testset/SAC/20240402/TW.EAH.00.HN*\n"
     ]
    },
    {
     "name": "stderr",
     "output_type": "stream",
     "text": [
      "Predicting: 100%|██████████| 39/39 [05:41<00:00,  8.76s/it]\n",
      "Merging 20240402: 39it [00:00, 610.59it/s]\n"
     ]
    },
    {
     "name": "stdout",
     "output_type": "stream",
     "text": [
      "Number of picks: 5159\n",
      "Number of P picks: 2935\n",
      "Number of S picks: 2224\n",
      "Eikonal Solver: \n",
      "Iter 0, error = 999.768\n",
      "Iter 1, error = 0.000\n",
      "Time: 3.026\n",
      "Eikonal Solver: \n",
      "Iter 0, error = 999.611\n",
      "Iter 1, error = 0.000\n",
      "Time: 0.164\n",
      "Associating 167 clusters with 35 CPUs\n",
      "....................................................................................................................................................................... input_vel OK.\n",
      " total event:          61\n",
      " iteration  1\n",
      " Earthquake#:       1\n",
      " Earthquake#:       2\n",
      " Earthquake#:       3\n",
      " Earthquake#:       4\n",
      " Earthquake#:       5\n",
      " Earthquake#:       6\n",
      " Earthquake#:       7\n",
      " Earthquake#:       8\n",
      " Earthquake#:       9\n",
      " Earthquake#:      10\n",
      " Earthquake#:      11\n",
      " Earthquake#:      12\n",
      " Earthquake#:      13\n",
      " Earthquake#:      14\n",
      " Earthquake#:      15\n",
      " Earthquake#:      16\n",
      " Earthquake#:      17\n",
      " Earthquake#:      18\n",
      " Earthquake#:      19\n",
      " Earthquake#:      20\n",
      " Earthquake#:      21\n",
      " Earthquake#:      22\n",
      " Earthquake#:      23\n",
      " Earthquake#:      24\n",
      " Earthquake#:      25\n",
      " Earthquake#:      26\n",
      " Earthquake#:      27\n",
      " Earthquake#:      28\n",
      " Earthquake#:      29\n",
      " Earthquake#:      30\n",
      " Earthquake#:      31\n",
      " Earthquake#:      32\n",
      " Earthquake#:      33\n",
      " Earthquake#:      34\n",
      " Earthquake#:      35\n",
      " Earthquake#:      36\n",
      " Earthquake#:      37\n",
      " Earthquake#:      38\n",
      " Earthquake#:      39\n",
      " Earthquake#:      40\n",
      " Earthquake#:      41\n",
      " Earthquake#:      42\n",
      " Earthquake#:      43\n",
      " Earthquake#:      44\n",
      " Earthquake#:      45\n",
      " Earthquake#:      46\n",
      " Earthquake#:      47\n",
      " Earthquake#:      48\n",
      " Earthquake#:      49\n",
      " Earthquake#:      50\n",
      " Earthquake#:      51\n",
      " Earthquake#:      52\n",
      " Earthquake#:      53\n",
      " Earthquake#:      54\n",
      " Earthquake#:      55\n",
      " Earthquake#:      56\n",
      " Earthquake#:      57\n",
      " Earthquake#:      58\n",
      " Earthquake#:      59\n",
      " Earthquake#:      60\n",
      " Earthquake#:      61\n",
      " Event pairs for dd:      14/   1830\n",
      " Observations for dd:     383\n",
      "No.     1 event <4 stations in D-D\n",
      "No.     3 event <4 stations in D-D\n",
      "No.     4 event <4 stations in D-D\n",
      "No.     5 event <4 stations in D-D\n",
      "No.     6 event <4 stations in D-D\n",
      "No.     7 event <4 stations in D-D\n",
      "No.     8 event <4 stations in D-D\n",
      "No.     9 event <4 stations in D-D\n",
      "No.    10 event <4 stations in D-D\n",
      "No.    11 event <4 stations in D-D\n",
      "No.    12 event <4 stations in D-D\n",
      "No.    14 event <4 stations in D-D\n",
      "No.    15 event <4 stations in D-D\n",
      "No.    16 event <4 stations in D-D\n",
      "No.    17 event <4 stations in D-D\n",
      "No.    18 event <4 stations in D-D\n",
      "No.    19 event <4 stations in D-D\n",
      "No.    20 event <4 stations in D-D\n",
      "No.    21 event <4 stations in D-D\n",
      "No.    22 event <4 stations in D-D\n",
      "No.    23 event <4 stations in D-D\n",
      "No.    24 event <4 stations in D-D\n",
      "No.    26 event <4 stations in D-D\n",
      "No.    27 event <4 stations in D-D\n",
      "No.    28 event <4 stations in D-D\n",
      "No.    29 event <4 stations in D-D\n",
      "No.    30 event <4 stations in D-D\n",
      "No.    31 event <4 stations in D-D\n",
      "No.    33 event <4 stations in D-D\n",
      "No.    34 event <4 stations in D-D\n",
      "No.    35 event <4 stations in D-D\n",
      "No.    36 event <4 stations in D-D\n",
      "No.    37 event <4 stations in D-D\n",
      "No.    38 event <4 stations in D-D\n",
      "No.    39 event <4 stations in D-D\n",
      "No.    40 event <4 stations in D-D\n",
      "No.    41 event <4 stations in D-D\n",
      "No.    42 event <4 stations in D-D\n",
      "No.    43 event <4 stations in D-D\n",
      "No.    44 event <4 stations in D-D\n",
      "No.    46 event <4 stations in D-D\n",
      "No.    48 event <4 stations in D-D\n",
      "No.    50 event <4 stations in D-D\n",
      "No.    52 event <4 stations in D-D\n",
      "No.    54 event <4 stations in D-D\n",
      "No.    56 event <4 stations in D-D\n",
      "No.    57 event <4 stations in D-D\n",
      "No.    61 event <4 stations in D-D\n",
      " Joint inversion with single event method\n",
      " total equations in A matrix:    1940\n",
      "RMS    0.4814 RMSwt    0.1902\n",
      " LSQR INVERSION\n",
      " LSQR OK\n",
      " iteration  2\n",
      " Earthquake#:       1\n",
      " Earthquake#:       2\n",
      " Earthquake#:       3\n",
      " Earthquake#:       4\n",
      " Earthquake#:       5\n",
      " Earthquake#:       6\n",
      " Earthquake#:       7\n",
      " Earthquake#:       8\n",
      " Earthquake#:       9\n",
      " Earthquake#:      10\n",
      " Earthquake#:      11\n",
      " Earthquake#:      12\n",
      " Earthquake#:      13\n",
      " Earthquake#:      14\n",
      " Earthquake#:      15\n",
      " Earthquake#:      16\n",
      " Earthquake#:      17\n",
      " Earthquake#:      18\n",
      " Earthquake#:      19\n",
      " Earthquake#:      20\n",
      " Earthquake#:      21\n",
      " Earthquake#:      22\n",
      " Earthquake#:      23\n",
      " Earthquake#:      24\n",
      " Earthquake#:      25\n",
      " Earthquake#:      26\n",
      " Earthquake#:      27\n",
      " Earthquake#:      28\n",
      " Earthquake#:      29\n",
      " Earthquake#:      30\n",
      " Earthquake#:      31\n",
      " Earthquake#:      32\n",
      " Earthquake#:      33\n",
      " Earthquake#:      34\n",
      " Earthquake#:      35\n",
      " Earthquake#:      36\n",
      " Earthquake#:      37\n",
      " Earthquake#:      38\n",
      " Earthquake#:      39\n",
      " Earthquake#:      40\n",
      " Earthquake#:      41\n",
      " Earthquake#:      42\n",
      " Earthquake#:      43\n",
      " Earthquake#:      44\n",
      " Earthquake#:      45\n",
      " Earthquake#:      46\n",
      " Earthquake#:      47\n",
      " Earthquake#:      48\n",
      " Earthquake#:      49\n",
      " Earthquake#:      50\n",
      " Earthquake#:      51\n",
      " Earthquake#:      52\n",
      " Earthquake#:      53\n",
      " Earthquake#:      54\n",
      " Earthquake#:      55\n",
      " Earthquake#:      56\n",
      " Earthquake#:      57\n",
      " Earthquake#:      58\n",
      " Earthquake#:      59\n",
      " Earthquake#:      60\n",
      " Earthquake#:      61\n",
      " Event pairs for dd:      14/   1830\n",
      " Observations for dd:     168\n",
      "No.     1 event <4 stations in D-D\n",
      "No.     2 event <4 stations in D-D\n",
      "No.     3 event <4 stations in D-D\n",
      "No.     4 event <4 stations in D-D\n",
      "No.     5 event <4 stations in D-D\n",
      "No.     6 event <4 stations in D-D\n",
      "No.     7 event <4 stations in D-D\n",
      "No.     8 event <4 stations in D-D\n",
      "No.     9 event <4 stations in D-D\n",
      "No.    10 event <4 stations in D-D\n",
      "No.    11 event <4 stations in D-D\n",
      "No.    12 event <4 stations in D-D\n",
      "No.    13 event <4 stations in D-D\n",
      "No.    14 event <4 stations in D-D\n",
      "No.    15 event <4 stations in D-D\n",
      "No.    16 event <4 stations in D-D\n",
      "No.    17 event <4 stations in D-D\n",
      "No.    18 event <4 stations in D-D\n",
      "No.    19 event <4 stations in D-D\n",
      "No.    20 event <4 stations in D-D\n",
      "No.    21 event <4 stations in D-D\n",
      "No.    22 event <4 stations in D-D\n",
      "No.    23 event <4 stations in D-D\n",
      "No.    24 event <4 stations in D-D\n",
      "No.    25 event <4 stations in D-D\n",
      "No.    26 event <4 stations in D-D\n",
      "No.    27 event <4 stations in D-D\n",
      "No.    28 event <4 stations in D-D\n",
      "No.    29 event <4 stations in D-D\n",
      "No.    30 event <4 stations in D-D\n",
      "No.    31 event <4 stations in D-D\n",
      "No.    32 event <4 stations in D-D\n",
      "No.    33 event <4 stations in D-D\n",
      "No.    34 event <4 stations in D-D\n",
      "No.    35 event <4 stations in D-D\n",
      "No.    36 event <4 stations in D-D\n",
      "No.    37 event <4 stations in D-D\n",
      "No.    38 event <4 stations in D-D\n",
      "No.    39 event <4 stations in D-D\n",
      "No.    40 event <4 stations in D-D\n",
      "No.    41 event <4 stations in D-D\n",
      "No.    42 event <4 stations in D-D\n",
      "No.    43 event <4 stations in D-D\n",
      "No.    44 event <4 stations in D-D\n",
      "No.    48 event <4 stations in D-D\n",
      "No.    52 event <4 stations in D-D\n",
      "No.    54 event <4 stations in D-D\n",
      "No.    56 event <4 stations in D-D\n",
      "No.    57 event <4 stations in D-D\n",
      "No.    61 event <4 stations in D-D\n",
      " Joint inversion with single event method\n",
      " total equations in A matrix:    1335\n",
      "RMS    0.4183 -13.12 % RMSwt    0.1614 -15.12 %\n",
      " LSQR INVERSION\n",
      " LSQR OK\n",
      " iteration  3\n",
      " Earthquake#:       1\n",
      " Earthquake#:       2\n",
      " Earthquake#:       3\n",
      " Earthquake#:       4\n",
      " Earthquake#:       5\n",
      " Earthquake#:       6\n",
      " Earthquake#:       7\n",
      " Earthquake#:       8\n",
      " Earthquake#:       9\n",
      " Earthquake#:      10\n",
      " Earthquake#:      11\n",
      " Earthquake#:      12\n",
      " Earthquake#:      13\n",
      " Earthquake#:      14\n",
      " Earthquake#:      15\n",
      " Earthquake#:      16\n",
      " Earthquake#:      17\n",
      " Earthquake#:      18\n",
      " Earthquake#:      19\n",
      " Earthquake#:      20\n",
      " Earthquake#:      21\n",
      " Earthquake#:      22\n",
      " Earthquake#:      23\n",
      " Earthquake#:      24\n",
      " Earthquake#:      25\n",
      " Earthquake#:      26\n",
      " Earthquake#:      27\n",
      " Earthquake#:      28\n",
      " Earthquake#:      29\n",
      " Earthquake#:      30\n",
      " Earthquake#:      31\n",
      " Earthquake#:      32\n",
      " Earthquake#:      33\n",
      " Earthquake#:      34\n",
      " Earthquake#:      35\n",
      " Earthquake#:      36\n",
      " Earthquake#:      37\n",
      " Earthquake#:      38\n",
      " Earthquake#:      39\n",
      " Earthquake#:      40\n",
      " Earthquake#:      41\n",
      " Earthquake#:      42\n",
      " Earthquake#:      43\n",
      " Earthquake#:      44\n",
      " Earthquake#:      45\n",
      " Earthquake#:      46\n",
      " Earthquake#:      47\n",
      " Earthquake#:      48\n",
      " Earthquake#:      49\n",
      " Earthquake#:      50\n",
      " Earthquake#:      51\n",
      " Earthquake#:      52\n",
      " Earthquake#:      53\n",
      " Earthquake#:      54\n",
      " Earthquake#:      55\n",
      " Earthquake#:      56\n",
      " Earthquake#:      57\n",
      " Earthquake#:      58\n",
      " Earthquake#:      59\n",
      " Earthquake#:      60\n",
      " Earthquake#:      61\n",
      " Event pairs for dd:      24/   1830\n",
      " Observations for dd:     270\n",
      "No.     1 event <4 stations in D-D\n",
      "No.     2 event <4 stations in D-D\n",
      "No.     3 event <4 stations in D-D\n",
      "No.     4 event <4 stations in D-D\n",
      "No.     5 event <4 stations in D-D\n",
      "No.     6 event <4 stations in D-D\n",
      "No.     7 event <4 stations in D-D\n",
      "No.     8 event <4 stations in D-D\n",
      "No.     9 event <4 stations in D-D\n",
      "No.    10 event <4 stations in D-D\n",
      "No.    11 event <4 stations in D-D\n",
      "No.    12 event <4 stations in D-D\n",
      "No.    13 event <4 stations in D-D\n",
      "No.    14 event <4 stations in D-D\n",
      "No.    15 event <4 stations in D-D\n",
      "No.    16 event <4 stations in D-D\n",
      "No.    17 event <4 stations in D-D\n",
      "No.    18 event <4 stations in D-D\n",
      "No.    19 event <4 stations in D-D\n",
      "No.    20 event <4 stations in D-D\n",
      "No.    21 event <4 stations in D-D\n",
      "No.    22 event <4 stations in D-D\n",
      "No.    23 event <4 stations in D-D\n",
      "No.    24 event <4 stations in D-D\n",
      "No.    25 event <4 stations in D-D\n",
      "No.    26 event <4 stations in D-D\n",
      "No.    27 event <4 stations in D-D\n",
      "No.    28 event <4 stations in D-D\n",
      "No.    29 event <4 stations in D-D\n",
      "No.    30 event <4 stations in D-D\n",
      "No.    31 event <4 stations in D-D\n",
      "No.    32 event <4 stations in D-D\n",
      "No.    33 event <4 stations in D-D\n",
      "No.    34 event <4 stations in D-D\n",
      "No.    35 event <4 stations in D-D\n",
      "No.    36 event <4 stations in D-D\n",
      "No.    37 event <4 stations in D-D\n",
      "No.    38 event <4 stations in D-D\n",
      "No.    39 event <4 stations in D-D\n",
      "No.    40 event <4 stations in D-D\n",
      "No.    41 event <4 stations in D-D\n",
      "No.    42 event <4 stations in D-D\n",
      "No.    43 event <4 stations in D-D\n",
      "No.    44 event <4 stations in D-D\n",
      "No.    48 event <4 stations in D-D\n",
      "No.    49 event <4 stations in D-D\n",
      "No.    52 event <4 stations in D-D\n",
      "No.    54 event <4 stations in D-D\n",
      "No.    56 event <4 stations in D-D\n",
      "No.    57 event <4 stations in D-D\n",
      "No.    61 event <4 stations in D-D\n",
      " Joint inversion with single event method\n",
      " total equations in A matrix:    1437\n",
      "RMS    0.3654 -12.64 % RMSwt    0.1206 -25.31 %\n",
      " LSQR INVERSION\n",
      " LSQR OK\n",
      " iteration  4\n",
      " Earthquake#:       1\n",
      " Earthquake#:       2\n",
      " Earthquake#:       3\n",
      " Earthquake#:       4\n",
      " Earthquake#:       5\n",
      " Earthquake#:       6\n",
      " Earthquake#:       7\n",
      " Earthquake#:       8\n",
      " Earthquake#:       9\n",
      " Earthquake#:      10\n",
      " Earthquake#:      11\n",
      " Earthquake#:      12\n",
      " Earthquake#:      13\n",
      " Earthquake#:      14\n",
      " Earthquake#:      15\n",
      " Earthquake#:      16\n",
      " Earthquake#:      17\n",
      " Earthquake#:      18\n",
      " Earthquake#:      19\n",
      " Earthquake#:      20\n",
      " Earthquake#:      21\n",
      " Earthquake#:      22\n",
      " Earthquake#:      23\n",
      " Earthquake#:      24\n",
      " Earthquake#:      25\n",
      " Earthquake#:      26\n",
      " Earthquake#:      27\n",
      " Earthquake#:      28\n",
      " Earthquake#:      29\n",
      " Earthquake#:      30\n",
      " Earthquake#:      31\n",
      " Earthquake#:      32\n",
      " Earthquake#:      33\n",
      " Earthquake#:      34\n",
      " Earthquake#:      35\n",
      " Earthquake#:      36\n",
      " Earthquake#:      37\n",
      " Earthquake#:      38\n",
      " Earthquake#:      39\n",
      " Earthquake#:      40\n",
      " Earthquake#:      41\n",
      " Earthquake#:      42\n",
      " Earthquake#:      43\n",
      " Earthquake#:      44\n",
      " Earthquake#:      45\n",
      " Earthquake#:      46\n",
      " Earthquake#:      47\n",
      " Earthquake#:      48\n",
      " Earthquake#:      49\n",
      " Earthquake#:      50\n",
      " Earthquake#:      51\n",
      " Earthquake#:      52\n",
      " Earthquake#:      53\n",
      " Earthquake#:      54\n",
      " Earthquake#:      55\n",
      " Earthquake#:      56\n",
      " Earthquake#:      57\n",
      " Earthquake#:      58\n",
      " Earthquake#:      59\n",
      " Earthquake#:      60\n",
      " Earthquake#:      61\n",
      " Event pairs for dd:      21/   1830\n",
      " Observations for dd:     229\n",
      "No.     1 event <4 stations in D-D\n",
      "No.     2 event <4 stations in D-D\n",
      "No.     3 event <4 stations in D-D\n",
      "No.     4 event <4 stations in D-D\n",
      "No.     5 event <4 stations in D-D\n",
      "No.     6 event <4 stations in D-D\n",
      "No.     7 event <4 stations in D-D\n",
      "No.     8 event <4 stations in D-D\n",
      "No.     9 event <4 stations in D-D\n",
      "No.    10 event <4 stations in D-D\n",
      "No.    11 event <4 stations in D-D\n",
      "No.    12 event <4 stations in D-D\n",
      "No.    13 event <4 stations in D-D\n",
      "No.    14 event <4 stations in D-D\n",
      "No.    15 event <4 stations in D-D\n",
      "No.    16 event <4 stations in D-D\n",
      "No.    17 event <4 stations in D-D\n",
      "No.    18 event <4 stations in D-D\n",
      "No.    19 event <4 stations in D-D\n",
      "No.    20 event <4 stations in D-D\n",
      "No.    21 event <4 stations in D-D\n",
      "No.    22 event <4 stations in D-D\n",
      "No.    23 event <4 stations in D-D\n",
      "No.    24 event <4 stations in D-D\n",
      "No.    25 event <4 stations in D-D\n",
      "No.    26 event <4 stations in D-D\n",
      "No.    27 event <4 stations in D-D\n",
      "No.    28 event <4 stations in D-D\n",
      "No.    29 event <4 stations in D-D\n",
      "No.    30 event <4 stations in D-D\n",
      "No.    31 event <4 stations in D-D\n",
      "No.    32 event <4 stations in D-D\n",
      "No.    33 event <4 stations in D-D\n",
      "No.    34 event <4 stations in D-D\n",
      "No.    35 event <4 stations in D-D\n",
      "No.    36 event <4 stations in D-D\n",
      "No.    37 event <4 stations in D-D\n",
      "No.    38 event <4 stations in D-D\n",
      "No.    39 event <4 stations in D-D\n",
      "No.    40 event <4 stations in D-D\n",
      "No.    41 event <4 stations in D-D\n",
      "No.    42 event <4 stations in D-D\n",
      "No.    43 event <4 stations in D-D\n",
      "No.    44 event <4 stations in D-D\n",
      "No.    48 event <4 stations in D-D\n",
      "No.    49 event <4 stations in D-D\n",
      "No.    52 event <4 stations in D-D\n",
      "No.    54 event <4 stations in D-D\n",
      "No.    56 event <4 stations in D-D\n",
      "No.    57 event <4 stations in D-D\n",
      "No.    61 event <4 stations in D-D\n",
      " Joint inversion with single event method\n",
      " total equations in A matrix:    1396\n",
      "RMS    0.3653  -0.03 % RMSwt    0.1182  -2.00 %\n",
      " LSQR INVERSION\n",
      " LSQR OK\n",
      " iteration  5\n",
      " Earthquake#:       1\n",
      " Earthquake#:       2\n",
      " Earthquake#:       3\n",
      " Earthquake#:       4\n",
      " Earthquake#:       5\n",
      " Earthquake#:       6\n",
      " Earthquake#:       7\n",
      " Earthquake#:       8\n",
      " Earthquake#:       9\n",
      " Earthquake#:      10\n",
      " Earthquake#:      11\n",
      " Earthquake#:      12\n",
      " Earthquake#:      13\n",
      " Earthquake#:      14\n",
      " Earthquake#:      15\n",
      " Earthquake#:      16\n",
      " Earthquake#:      17\n",
      " Earthquake#:      18\n",
      " Earthquake#:      19\n",
      " Earthquake#:      20\n",
      " Earthquake#:      21\n",
      " Earthquake#:      22\n",
      " Earthquake#:      23\n",
      " Earthquake#:      24\n",
      " Earthquake#:      25\n",
      " Earthquake#:      26\n",
      " Earthquake#:      27\n",
      " Earthquake#:      28\n",
      " Earthquake#:      29\n",
      " Earthquake#:      30\n",
      " Earthquake#:      31\n",
      " Earthquake#:      32\n",
      " Earthquake#:      33\n",
      " Earthquake#:      34\n",
      " Earthquake#:      35\n",
      " Earthquake#:      36\n",
      " Earthquake#:      37\n",
      " Earthquake#:      38\n",
      " Earthquake#:      39\n",
      " Earthquake#:      40\n",
      " Earthquake#:      41\n",
      " Earthquake#:      42\n",
      " Earthquake#:      43\n",
      " Earthquake#:      44\n",
      " Earthquake#:      45\n",
      " Earthquake#:      46\n",
      " Earthquake#:      47\n",
      " Earthquake#:      48\n",
      " Earthquake#:      49\n",
      " Earthquake#:      50\n",
      " Earthquake#:      51\n",
      " Earthquake#:      52\n",
      " Earthquake#:      53\n",
      " Earthquake#:      54\n",
      " Earthquake#:      55\n",
      " Earthquake#:      56\n",
      " Earthquake#:      57\n",
      " Earthquake#:      58\n",
      " Earthquake#:      59\n",
      " Earthquake#:      60\n",
      " Earthquake#:      61\n",
      " Event pairs for dd:      21/   1830\n",
      " Observations for dd:     233\n",
      "No.     1 event <4 stations in D-D\n",
      "No.     2 event <4 stations in D-D\n",
      "No.     3 event <4 stations in D-D\n",
      "No.     4 event <4 stations in D-D\n",
      "No.     5 event <4 stations in D-D\n",
      "No.     6 event <4 stations in D-D\n",
      "No.     7 event <4 stations in D-D\n",
      "No.     8 event <4 stations in D-D\n",
      "No.     9 event <4 stations in D-D\n",
      "No.    10 event <4 stations in D-D\n",
      "No.    11 event <4 stations in D-D\n",
      "No.    12 event <4 stations in D-D\n",
      "No.    13 event <4 stations in D-D\n",
      "No.    14 event <4 stations in D-D\n",
      "No.    15 event <4 stations in D-D\n",
      "No.    16 event <4 stations in D-D\n",
      "No.    17 event <4 stations in D-D\n",
      "No.    18 event <4 stations in D-D\n",
      "No.    19 event <4 stations in D-D\n",
      "No.    20 event <4 stations in D-D\n",
      "No.    21 event <4 stations in D-D\n",
      "No.    22 event <4 stations in D-D\n",
      "No.    23 event <4 stations in D-D\n",
      "No.    24 event <4 stations in D-D\n",
      "No.    25 event <4 stations in D-D\n",
      "No.    26 event <4 stations in D-D\n",
      "No.    27 event <4 stations in D-D\n",
      "No.    28 event <4 stations in D-D\n",
      "No.    29 event <4 stations in D-D\n",
      "No.    30 event <4 stations in D-D\n",
      "No.    31 event <4 stations in D-D\n",
      "No.    32 event <4 stations in D-D\n",
      "No.    33 event <4 stations in D-D\n",
      "No.    34 event <4 stations in D-D\n",
      "No.    35 event <4 stations in D-D\n",
      "No.    36 event <4 stations in D-D\n",
      "No.    37 event <4 stations in D-D\n",
      "No.    38 event <4 stations in D-D\n",
      "No.    39 event <4 stations in D-D\n",
      "No.    40 event <4 stations in D-D\n",
      "No.    41 event <4 stations in D-D\n",
      "No.    42 event <4 stations in D-D\n",
      "No.    43 event <4 stations in D-D\n",
      "No.    44 event <4 stations in D-D\n",
      "No.    46 event <4 stations in D-D\n",
      "No.    48 event <4 stations in D-D\n",
      "No.    49 event <4 stations in D-D\n",
      "No.    50 event <4 stations in D-D\n",
      "No.    52 event <4 stations in D-D\n",
      "No.    54 event <4 stations in D-D\n",
      "No.    56 event <4 stations in D-D\n",
      "No.    57 event <4 stations in D-D\n",
      "No.    61 event <4 stations in D-D\n",
      " Joint inversion with single event method\n",
      " total equations in A matrix:    1400\n",
      "RMS    0.3638  -0.40 % RMSwt    0.1157  -2.10 %\n",
      " LSQR INVERSION\n",
      " LSQR OK\n",
      " iteration  6\n",
      " Earthquake#:       1\n",
      " Earthquake#:       2\n",
      " Earthquake#:       3\n",
      " Earthquake#:       4\n",
      " Earthquake#:       5\n",
      " Earthquake#:       6\n",
      " Earthquake#:       7\n",
      " Earthquake#:       8\n",
      " Earthquake#:       9\n",
      " Earthquake#:      10\n",
      " Earthquake#:      11\n",
      " Earthquake#:      12\n",
      " Earthquake#:      13\n",
      " Earthquake#:      14\n",
      " Earthquake#:      15\n",
      " Earthquake#:      16\n",
      " Earthquake#:      17\n",
      " Earthquake#:      18\n",
      " Earthquake#:      19\n",
      " Earthquake#:      20\n",
      " Earthquake#:      21\n",
      " Earthquake#:      22\n",
      " Earthquake#:      23\n",
      " Earthquake#:      24\n",
      " Earthquake#:      25\n",
      " Earthquake#:      26\n",
      " Earthquake#:      27\n",
      " Earthquake#:      28\n",
      " Earthquake#:      29\n",
      " Earthquake#:      30\n",
      " Earthquake#:      31\n",
      " Earthquake#:      32\n",
      " Earthquake#:      33\n",
      " Earthquake#:      34\n",
      " Earthquake#:      35\n",
      " Earthquake#:      36\n",
      " Earthquake#:      37\n",
      " Earthquake#:      38\n",
      " Earthquake#:      39\n",
      " Earthquake#:      40\n",
      " Earthquake#:      41\n",
      " Earthquake#:      42\n",
      " Earthquake#:      43\n",
      " Earthquake#:      44\n",
      " Earthquake#:      45\n",
      " Earthquake#:      46\n",
      " Earthquake#:      47\n",
      " Earthquake#:      48\n",
      " Earthquake#:      49\n",
      " Earthquake#:      50\n",
      " Earthquake#:      51\n",
      " Earthquake#:      52\n",
      " Earthquake#:      53\n",
      " Earthquake#:      54\n",
      " Earthquake#:      55\n",
      " Earthquake#:      56\n",
      " Earthquake#:      57\n",
      " Earthquake#:      58\n",
      " Earthquake#:      59\n",
      " Earthquake#:      60\n",
      " Earthquake#:      61\n",
      " Event pairs for dd:      21/   1830\n",
      " Observations for dd:     243\n",
      "No.     1 event <4 stations in D-D\n",
      "No.     2 event <4 stations in D-D\n",
      "No.     3 event <4 stations in D-D\n",
      "No.     4 event <4 stations in D-D\n",
      "No.     5 event <4 stations in D-D\n",
      "No.     6 event <4 stations in D-D\n",
      "No.     7 event <4 stations in D-D\n",
      "No.     8 event <4 stations in D-D\n",
      "No.     9 event <4 stations in D-D\n",
      "No.    10 event <4 stations in D-D\n",
      "No.    11 event <4 stations in D-D\n",
      "No.    12 event <4 stations in D-D\n",
      "No.    13 event <4 stations in D-D\n",
      "No.    14 event <4 stations in D-D\n",
      "No.    15 event <4 stations in D-D\n",
      "No.    16 event <4 stations in D-D\n",
      "No.    17 event <4 stations in D-D\n",
      "No.    18 event <4 stations in D-D\n",
      "No.    19 event <4 stations in D-D\n",
      "No.    20 event <4 stations in D-D\n",
      "No.    21 event <4 stations in D-D\n",
      "No.    22 event <4 stations in D-D\n",
      "No.    23 event <4 stations in D-D\n",
      "No.    24 event <4 stations in D-D\n",
      "No.    25 event <4 stations in D-D\n",
      "No.    26 event <4 stations in D-D\n",
      "No.    27 event <4 stations in D-D\n",
      "No.    28 event <4 stations in D-D\n",
      "No.    29 event <4 stations in D-D\n",
      "No.    30 event <4 stations in D-D\n",
      "No.    31 event <4 stations in D-D\n",
      "No.    32 event <4 stations in D-D\n",
      "No.    33 event <4 stations in D-D\n",
      "No.    34 event <4 stations in D-D\n",
      "No.    35 event <4 stations in D-D\n",
      "No.    36 event <4 stations in D-D\n",
      "No.    37 event <4 stations in D-D\n",
      "No.    38 event <4 stations in D-D\n",
      "No.    39 event <4 stations in D-D\n",
      "No.    40 event <4 stations in D-D\n",
      "No.    41 event <4 stations in D-D\n",
      "No.    42 event <4 stations in D-D\n",
      "No.    43 event <4 stations in D-D\n",
      "No.    44 event <4 stations in D-D\n",
      "No.    48 event <4 stations in D-D\n",
      "No.    49 event <4 stations in D-D\n",
      "No.    52 event <4 stations in D-D\n",
      "No.    54 event <4 stations in D-D\n",
      "No.    56 event <4 stations in D-D\n",
      "No.    57 event <4 stations in D-D\n",
      "No.    61 event <4 stations in D-D\n",
      " Joint inversion with single event method\n",
      " total equations in A matrix:    1410\n",
      "RMS    0.3653   0.42 % RMSwt    0.1281  10.78 %\n",
      " DONE.\n",
      " Input the phase file\n",
      " Pfile : 240402005143.P24        \n",
      "   1.00000000    \n",
      " # of solutions:           1\n",
      "240402005143.P24\n"
     ]
    },
    {
     "name": "stderr",
     "output_type": "stream",
     "text": [
      "psbasemap: Constructing basemap\n",
      "pstext: Plotted 1 text-strings\n",
      "psmeca: Number of records read: 1\n"
     ]
    },
    {
     "name": "stdout",
     "output_type": "stream",
     "text": [
      " Pfile : 240402021131.P24        \n",
      "   1.00000000    \n",
      " # of solutions:           1\n",
      "240402021131.P24\n"
     ]
    },
    {
     "name": "stderr",
     "output_type": "stream",
     "text": [
      "psbasemap: Constructing basemap\n",
      "pstext: Plotted 1 text-strings\n",
      "psmeca: Number of records read: 1\n"
     ]
    },
    {
     "name": "stdout",
     "output_type": "stream",
     "text": [
      " Pfile : 240402054605.P24        \n",
      "  0.692307711    \n",
      " # of solutions:           1\n",
      "240402054605.P24\n"
     ]
    },
    {
     "name": "stderr",
     "output_type": "stream",
     "text": [
      "psbasemap: Constructing basemap\n",
      "pstext: Plotted 1 text-strings\n",
      "psmeca: Number of records read: 1\n"
     ]
    },
    {
     "name": "stdout",
     "output_type": "stream",
     "text": [
      " Pfile : 240402123451.P24        \n",
      "  0.818181813    \n",
      " # of solutions:           1\n",
      "240402123451.P24\n"
     ]
    },
    {
     "name": "stderr",
     "output_type": "stream",
     "text": [
      "psbasemap: Constructing basemap\n",
      "pstext: Plotted 1 text-strings\n",
      "psmeca: Number of records read: 1\n"
     ]
    },
    {
     "name": "stdout",
     "output_type": "stream",
     "text": [
      " Pfile : 240402125326.P24        \n",
      "   1.00000000    \n",
      " # of solutions:           1\n",
      "240402125326.P24\n"
     ]
    },
    {
     "name": "stderr",
     "output_type": "stream",
     "text": [
      "psbasemap: Constructing basemap\n",
      "pstext: Plotted 1 text-strings\n",
      "psmeca: Number of records read: 1\n"
     ]
    },
    {
     "name": "stdout",
     "output_type": "stream",
     "text": [
      " Pfile : 240402141601.P24        \n",
      "  0.625000000    \n",
      " # of solutions:           1\n",
      "240402141601.P24\n"
     ]
    },
    {
     "name": "stderr",
     "output_type": "stream",
     "text": [
      "psbasemap: Constructing basemap\n",
      "pstext: Plotted 1 text-strings\n",
      "psmeca: Number of records read: 1\n"
     ]
    },
    {
     "name": "stdout",
     "output_type": "stream",
     "text": [
      " Pfile : 240402145419.P24        \n",
      "  0.866666675    \n",
      " # of solutions:           1\n",
      "240402145419.P24\n"
     ]
    },
    {
     "name": "stderr",
     "output_type": "stream",
     "text": [
      "psbasemap: Constructing basemap\n",
      "pstext: Plotted 1 text-strings\n",
      "psmeca: Number of records read: 1\n"
     ]
    },
    {
     "name": "stdout",
     "output_type": "stream",
     "text": [
      " Pfile : 240402183039.P24        \n",
      "  0.777777791    \n",
      " # of solutions:           1\n",
      "240402183039.P24\n"
     ]
    },
    {
     "name": "stderr",
     "output_type": "stream",
     "text": [
      "psbasemap: Constructing basemap\n",
      "pstext: Plotted 1 text-strings\n",
      "psmeca: Number of records read: 1\n"
     ]
    },
    {
     "name": "stdout",
     "output_type": "stream",
     "text": [
      " Pfile : 240402185714.P24        \n",
      "  0.750000000    \n",
      " # of solutions:           1\n",
      "240402185714.P24\n"
     ]
    },
    {
     "name": "stderr",
     "output_type": "stream",
     "text": [
      "psbasemap: Constructing basemap\n",
      "pstext: Plotted 1 text-strings\n",
      "psmeca: Number of records read: 1\n"
     ]
    },
    {
     "name": "stdout",
     "output_type": "stream",
     "text": [
      " Pfile : 240402190318.P24        \n",
      "  0.920000017    \n",
      " # of solutions:           1\n",
      "240402190318.P24\n"
     ]
    },
    {
     "name": "stderr",
     "output_type": "stream",
     "text": [
      "psbasemap: Constructing basemap\n",
      "pstext: Plotted 1 text-strings\n",
      "psmeca: Number of records read: 1\n"
     ]
    },
    {
     "name": "stdout",
     "output_type": "stream",
     "text": [
      " Pfile : 240402193851.P24        \n",
      "  0.833333313    \n",
      " # of solutions:           2\n",
      "240402193851.P24\n"
     ]
    },
    {
     "name": "stderr",
     "output_type": "stream",
     "text": [
      "psbasemap: Constructing basemap\n",
      "pstext: Plotted 1 text-strings\n",
      "psmeca: Number of records read: 1\n"
     ]
    },
    {
     "name": "stdout",
     "output_type": "stream",
     "text": [
      " Pfile : 240402204957.P24        \n",
      "  0.750000000    \n",
      " # of solutions:           1\n",
      "240402204957.P24\n"
     ]
    },
    {
     "name": "stderr",
     "output_type": "stream",
     "text": [
      "psbasemap: Constructing basemap\n",
      "pstext: Plotted 1 text-strings\n",
      "psmeca: Number of records read: 1\n"
     ]
    },
    {
     "name": "stdout",
     "output_type": "stream",
     "text": [
      " Pfile : 240402213653.P24        \n",
      "  0.818181813    \n",
      " # of solutions:           1\n",
      "240402213653.P24\n"
     ]
    },
    {
     "name": "stderr",
     "output_type": "stream",
     "text": [
      "psbasemap: Constructing basemap\n",
      "pstext: Plotted 1 text-strings\n",
      "psmeca: Number of records read: 1\n"
     ]
    },
    {
     "name": "stdout",
     "output_type": "stream",
     "text": [
      " Pfile : 240402235810.P24        \n",
      "   1.00000000    \n",
      " # of solutions:           1\n",
      "240402235810.P24\n"
     ]
    },
    {
     "name": "stderr",
     "output_type": "stream",
     "text": [
      "psbasemap: Constructing basemap\n",
      "pstext: Plotted 1 text-strings\n",
      "psmeca: Number of records read: 1\n"
     ]
    }
   ],
   "source": [
    "from autoquake.scenarios import run_autoquake\n",
    "run_autoquake(\n",
    "    picker=phasenet,\n",
    "    associator=gamma,\n",
    "    relocator=h3dd,\n",
    "    pz_dir=pz_dir,\n",
    "    use_polarity=True, # default as True\n",
    "    use_magnitude=True, # default as True\n",
    "    mag_processes=30, # default as 30, processes for multiprocessing\n",
    "    use_focal=True, # default as True\n",
    "    type_judge=None # Using None as default, which means using the second character of station to judge the type of station.\n",
    ")"
   ]
  },
  {
   "cell_type": "code",
   "execution_count": null,
   "metadata": {},
   "outputs": [],
   "source": []
  },
  {
   "cell_type": "markdown",
   "metadata": {},
   "source": [
    "4. Go through the result folder to check the result."
   ]
  },
  {
   "cell_type": "markdown",
   "metadata": {},
   "source": [
    "- Phasenet"
   ]
  },
  {
   "cell_type": "code",
   "execution_count": 5,
   "metadata": {},
   "outputs": [
    {
     "data": {
      "text/html": [
       "<div>\n",
       "<style scoped>\n",
       "    .dataframe tbody tr th:only-of-type {\n",
       "        vertical-align: middle;\n",
       "    }\n",
       "\n",
       "    .dataframe tbody tr th {\n",
       "        vertical-align: top;\n",
       "    }\n",
       "\n",
       "    .dataframe thead th {\n",
       "        text-align: right;\n",
       "    }\n",
       "</style>\n",
       "<table border=\"1\" class=\"dataframe\">\n",
       "  <thead>\n",
       "    <tr style=\"text-align: right;\">\n",
       "      <th></th>\n",
       "      <th>station_id</th>\n",
       "      <th>phase_index</th>\n",
       "      <th>phase_time</th>\n",
       "      <th>phase_score</th>\n",
       "      <th>phase_type</th>\n",
       "      <th>dt_s</th>\n",
       "      <th>phase_amplitude</th>\n",
       "    </tr>\n",
       "  </thead>\n",
       "  <tbody>\n",
       "    <tr>\n",
       "      <th>0</th>\n",
       "      <td>TW.WHY.10.HN</td>\n",
       "      <td>12219</td>\n",
       "      <td>2024-04-02T00:02:02.190</td>\n",
       "      <td>0.356</td>\n",
       "      <td>S</td>\n",
       "      <td>0.01</td>\n",
       "      <td>1.072</td>\n",
       "    </tr>\n",
       "    <tr>\n",
       "      <th>1</th>\n",
       "      <td>TW.SSLB..HH</td>\n",
       "      <td>14380</td>\n",
       "      <td>2024-04-02T00:02:23.808</td>\n",
       "      <td>0.371</td>\n",
       "      <td>P</td>\n",
       "      <td>0.01</td>\n",
       "      <td>6736.000</td>\n",
       "    </tr>\n",
       "    <tr>\n",
       "      <th>2</th>\n",
       "      <td>TW.SSLB..HH</td>\n",
       "      <td>14461</td>\n",
       "      <td>2024-04-02T00:02:24.618</td>\n",
       "      <td>0.520</td>\n",
       "      <td>S</td>\n",
       "      <td>0.01</td>\n",
       "      <td>6736.000</td>\n",
       "    </tr>\n",
       "  </tbody>\n",
       "</table>\n",
       "</div>"
      ],
      "text/plain": [
       "     station_id  phase_index               phase_time  phase_score phase_type  \\\n",
       "0  TW.WHY.10.HN        12219  2024-04-02T00:02:02.190        0.356          S   \n",
       "1   TW.SSLB..HH        14380  2024-04-02T00:02:23.808        0.371          P   \n",
       "2   TW.SSLB..HH        14461  2024-04-02T00:02:24.618        0.520          S   \n",
       "\n",
       "   dt_s  phase_amplitude  \n",
       "0  0.01            1.072  \n",
       "1  0.01         6736.000  \n",
       "2  0.01         6736.000  "
      ]
     },
     "execution_count": 5,
     "metadata": {},
     "output_type": "execute_result"
    }
   ],
   "source": [
    "import pandas as pd\n",
    "df = pd.read_csv(result_path / 'picks_phasenet' / startdate / 'picks.csv')\n",
    "df.head(3)"
   ]
  },
  {
   "cell_type": "markdown",
   "metadata": {},
   "source": [
    "- GaMMA"
   ]
  },
  {
   "cell_type": "code",
   "execution_count": 8,
   "metadata": {},
   "outputs": [
    {
     "data": {
      "text/html": [
       "<div>\n",
       "<style scoped>\n",
       "    .dataframe tbody tr th:only-of-type {\n",
       "        vertical-align: middle;\n",
       "    }\n",
       "\n",
       "    .dataframe tbody tr th {\n",
       "        vertical-align: top;\n",
       "    }\n",
       "\n",
       "    .dataframe thead th {\n",
       "        text-align: right;\n",
       "    }\n",
       "</style>\n",
       "<table border=\"1\" class=\"dataframe\">\n",
       "  <thead>\n",
       "    <tr style=\"text-align: right;\">\n",
       "      <th></th>\n",
       "      <th>time</th>\n",
       "      <th>magnitude</th>\n",
       "      <th>sigma_time</th>\n",
       "      <th>sigma_amp</th>\n",
       "      <th>cov_time_amp</th>\n",
       "      <th>gamma_score</th>\n",
       "      <th>num_picks</th>\n",
       "      <th>num_p_picks</th>\n",
       "      <th>num_s_picks</th>\n",
       "      <th>event_index</th>\n",
       "      <th>x(km)</th>\n",
       "      <th>y(km)</th>\n",
       "      <th>z(km)</th>\n",
       "      <th>longitude</th>\n",
       "      <th>latitude</th>\n",
       "      <th>depth_km</th>\n",
       "    </tr>\n",
       "  </thead>\n",
       "  <tbody>\n",
       "    <tr>\n",
       "      <th>12</th>\n",
       "      <td>2024-04-02T23:58:09.773</td>\n",
       "      <td>999</td>\n",
       "      <td>0.512</td>\n",
       "      <td>0</td>\n",
       "      <td>0</td>\n",
       "      <td>23.996</td>\n",
       "      <td>23</td>\n",
       "      <td>21</td>\n",
       "      <td>2</td>\n",
       "      <td>24</td>\n",
       "      <td>21.78</td>\n",
       "      <td>0.224</td>\n",
       "      <td>21.091</td>\n",
       "      <td>121.582</td>\n",
       "      <td>23.858</td>\n",
       "      <td>21.091</td>\n",
       "    </tr>\n",
       "  </tbody>\n",
       "</table>\n",
       "</div>"
      ],
      "text/plain": [
       "                       time  magnitude  sigma_time  sigma_amp  cov_time_amp  \\\n",
       "12  2024-04-02T23:58:09.773        999       0.512          0             0   \n",
       "\n",
       "    gamma_score  num_picks  num_p_picks  num_s_picks  event_index  x(km)  \\\n",
       "12       23.996         23           21            2           24  21.78   \n",
       "\n",
       "    y(km)   z(km)  longitude  latitude  depth_km  \n",
       "12  0.224  21.091    121.582    23.858    21.091  "
      ]
     },
     "execution_count": 8,
     "metadata": {},
     "output_type": "execute_result"
    }
   ],
   "source": [
    "df_event = pd.read_csv(result_path / 'gamma_events.csv')\n",
    "df_event[df_event['event_index'] == 24] # 0403 main eqrthquake"
   ]
  },
  {
   "cell_type": "code",
   "execution_count": 9,
   "metadata": {},
   "outputs": [
    {
     "data": {
      "text/html": [
       "<div>\n",
       "<style scoped>\n",
       "    .dataframe tbody tr th:only-of-type {\n",
       "        vertical-align: middle;\n",
       "    }\n",
       "\n",
       "    .dataframe tbody tr th {\n",
       "        vertical-align: top;\n",
       "    }\n",
       "\n",
       "    .dataframe thead th {\n",
       "        text-align: right;\n",
       "    }\n",
       "</style>\n",
       "<table border=\"1\" class=\"dataframe\">\n",
       "  <thead>\n",
       "    <tr style=\"text-align: right;\">\n",
       "      <th></th>\n",
       "      <th>station_id</th>\n",
       "      <th>phase_index</th>\n",
       "      <th>phase_time</th>\n",
       "      <th>phase_score</th>\n",
       "      <th>phase_type</th>\n",
       "      <th>dt_s</th>\n",
       "      <th>phase_amplitude</th>\n",
       "      <th>event_index</th>\n",
       "      <th>gamma_score</th>\n",
       "    </tr>\n",
       "  </thead>\n",
       "  <tbody>\n",
       "    <tr>\n",
       "      <th>5123</th>\n",
       "      <td>SM06</td>\n",
       "      <td>8629344</td>\n",
       "      <td>2024-04-02T23:58:14.200000</td>\n",
       "      <td>0.853</td>\n",
       "      <td>P</td>\n",
       "      <td>0.01</td>\n",
       "      <td>73940.00</td>\n",
       "      <td>24</td>\n",
       "      <td>0.272607</td>\n",
       "    </tr>\n",
       "    <tr>\n",
       "      <th>5124</th>\n",
       "      <td>SHUL</td>\n",
       "      <td>8629457</td>\n",
       "      <td>2024-04-02T23:58:14.570000</td>\n",
       "      <td>0.364</td>\n",
       "      <td>P</td>\n",
       "      <td>0.01</td>\n",
       "      <td>6551000.00</td>\n",
       "      <td>24</td>\n",
       "      <td>0.100939</td>\n",
       "    </tr>\n",
       "    <tr>\n",
       "      <th>5125</th>\n",
       "      <td>HWA</td>\n",
       "      <td>8629467</td>\n",
       "      <td>2024-04-02T23:58:14.670000</td>\n",
       "      <td>0.443</td>\n",
       "      <td>P</td>\n",
       "      <td>0.01</td>\n",
       "      <td>5223000.00</td>\n",
       "      <td>24</td>\n",
       "      <td>0.141951</td>\n",
       "    </tr>\n",
       "    <tr>\n",
       "      <th>5126</th>\n",
       "      <td>SM02</td>\n",
       "      <td>8629361</td>\n",
       "      <td>2024-04-02T23:58:15.010000</td>\n",
       "      <td>0.813</td>\n",
       "      <td>P</td>\n",
       "      <td>0.01</td>\n",
       "      <td>162500.00</td>\n",
       "      <td>24</td>\n",
       "      <td>0.258484</td>\n",
       "    </tr>\n",
       "    <tr>\n",
       "      <th>5127</th>\n",
       "      <td>SM39</td>\n",
       "      <td>8629509</td>\n",
       "      <td>2024-04-02T23:58:15.180000</td>\n",
       "      <td>0.794</td>\n",
       "      <td>P</td>\n",
       "      <td>0.01</td>\n",
       "      <td>233100.00</td>\n",
       "      <td>24</td>\n",
       "      <td>0.261715</td>\n",
       "    </tr>\n",
       "    <tr>\n",
       "      <th>5128</th>\n",
       "      <td>SM09</td>\n",
       "      <td>8629465</td>\n",
       "      <td>2024-04-02T23:58:15.260000</td>\n",
       "      <td>0.736</td>\n",
       "      <td>P</td>\n",
       "      <td>0.01</td>\n",
       "      <td>144700.00</td>\n",
       "      <td>24</td>\n",
       "      <td>0.240031</td>\n",
       "    </tr>\n",
       "    <tr>\n",
       "      <th>5129</th>\n",
       "      <td>NACB</td>\n",
       "      <td>8629703</td>\n",
       "      <td>2024-04-02T23:58:17.038000</td>\n",
       "      <td>0.567</td>\n",
       "      <td>P</td>\n",
       "      <td>0.01</td>\n",
       "      <td>35380000.00</td>\n",
       "      <td>24</td>\n",
       "      <td>0.183315</td>\n",
       "    </tr>\n",
       "    <tr>\n",
       "      <th>5130</th>\n",
       "      <td>SM39</td>\n",
       "      <td>8629798</td>\n",
       "      <td>2024-04-02T23:58:18.070000</td>\n",
       "      <td>0.436</td>\n",
       "      <td>S</td>\n",
       "      <td>0.01</td>\n",
       "      <td>793900.00</td>\n",
       "      <td>24</td>\n",
       "      <td>0.099376</td>\n",
       "    </tr>\n",
       "    <tr>\n",
       "      <th>5131</th>\n",
       "      <td>SM02</td>\n",
       "      <td>8629670</td>\n",
       "      <td>2024-04-02T23:58:18.100000</td>\n",
       "      <td>0.332</td>\n",
       "      <td>S</td>\n",
       "      <td>0.01</td>\n",
       "      <td>407300.00</td>\n",
       "      <td>24</td>\n",
       "      <td>0.108741</td>\n",
       "    </tr>\n",
       "    <tr>\n",
       "      <th>5132</th>\n",
       "      <td>EHYH</td>\n",
       "      <td>8629854</td>\n",
       "      <td>2024-04-02T23:58:18.540000</td>\n",
       "      <td>0.555</td>\n",
       "      <td>P</td>\n",
       "      <td>0.01</td>\n",
       "      <td>264300.00</td>\n",
       "      <td>24</td>\n",
       "      <td>0.164483</td>\n",
       "    </tr>\n",
       "    <tr>\n",
       "      <th>5133</th>\n",
       "      <td>HGSD</td>\n",
       "      <td>8629939</td>\n",
       "      <td>2024-04-02T23:58:19.390000</td>\n",
       "      <td>0.419</td>\n",
       "      <td>P</td>\n",
       "      <td>0.01</td>\n",
       "      <td>4428000.00</td>\n",
       "      <td>24</td>\n",
       "      <td>0.102553</td>\n",
       "    </tr>\n",
       "    <tr>\n",
       "      <th>5134</th>\n",
       "      <td>WUSB</td>\n",
       "      <td>8629947</td>\n",
       "      <td>2024-04-02T23:58:19.478000</td>\n",
       "      <td>0.454</td>\n",
       "      <td>P</td>\n",
       "      <td>0.01</td>\n",
       "      <td>12650000.00</td>\n",
       "      <td>24</td>\n",
       "      <td>0.149638</td>\n",
       "    </tr>\n",
       "    <tr>\n",
       "      <th>5135</th>\n",
       "      <td>YULB</td>\n",
       "      <td>8630004</td>\n",
       "      <td>2024-04-02T23:58:20.048000</td>\n",
       "      <td>0.680</td>\n",
       "      <td>P</td>\n",
       "      <td>0.01</td>\n",
       "      <td>1170000.00</td>\n",
       "      <td>24</td>\n",
       "      <td>0.164292</td>\n",
       "    </tr>\n",
       "    <tr>\n",
       "      <th>5136</th>\n",
       "      <td>EAH</td>\n",
       "      <td>8630015</td>\n",
       "      <td>2024-04-02T23:58:20.150000</td>\n",
       "      <td>0.368</td>\n",
       "      <td>P</td>\n",
       "      <td>0.01</td>\n",
       "      <td>930.20</td>\n",
       "      <td>24</td>\n",
       "      <td>0.121087</td>\n",
       "    </tr>\n",
       "    <tr>\n",
       "      <th>5137</th>\n",
       "      <td>SSLB</td>\n",
       "      <td>8630159</td>\n",
       "      <td>2024-04-02T23:58:21.598000</td>\n",
       "      <td>0.408</td>\n",
       "      <td>P</td>\n",
       "      <td>0.01</td>\n",
       "      <td>1769000.00</td>\n",
       "      <td>24</td>\n",
       "      <td>0.133370</td>\n",
       "    </tr>\n",
       "    <tr>\n",
       "      <th>5138</th>\n",
       "      <td>LATB</td>\n",
       "      <td>8630299</td>\n",
       "      <td>2024-04-02T23:58:22.998000</td>\n",
       "      <td>0.378</td>\n",
       "      <td>P</td>\n",
       "      <td>0.01</td>\n",
       "      <td>10810000.00</td>\n",
       "      <td>24</td>\n",
       "      <td>0.117146</td>\n",
       "    </tr>\n",
       "    <tr>\n",
       "      <th>5139</th>\n",
       "      <td>EOS4</td>\n",
       "      <td>8630399</td>\n",
       "      <td>2024-04-02T23:58:23.990000</td>\n",
       "      <td>0.328</td>\n",
       "      <td>P</td>\n",
       "      <td>0.01</td>\n",
       "      <td>899200.00</td>\n",
       "      <td>24</td>\n",
       "      <td>0.104893</td>\n",
       "    </tr>\n",
       "    <tr>\n",
       "      <th>5140</th>\n",
       "      <td>ESA</td>\n",
       "      <td>8630465</td>\n",
       "      <td>2024-04-02T23:58:24.650000</td>\n",
       "      <td>0.405</td>\n",
       "      <td>P</td>\n",
       "      <td>0.01</td>\n",
       "      <td>54.67</td>\n",
       "      <td>24</td>\n",
       "      <td>0.133314</td>\n",
       "    </tr>\n",
       "    <tr>\n",
       "      <th>5141</th>\n",
       "      <td>SYNB</td>\n",
       "      <td>8630400</td>\n",
       "      <td>2024-04-02T23:58:25.073000</td>\n",
       "      <td>0.545</td>\n",
       "      <td>P</td>\n",
       "      <td>0.01</td>\n",
       "      <td>1228000.00</td>\n",
       "      <td>24</td>\n",
       "      <td>0.153724</td>\n",
       "    </tr>\n",
       "    <tr>\n",
       "      <th>5142</th>\n",
       "      <td>NDS</td>\n",
       "      <td>8630577</td>\n",
       "      <td>2024-04-02T23:58:25.770000</td>\n",
       "      <td>0.405</td>\n",
       "      <td>P</td>\n",
       "      <td>0.01</td>\n",
       "      <td>5466000.00</td>\n",
       "      <td>24</td>\n",
       "      <td>0.117222</td>\n",
       "    </tr>\n",
       "    <tr>\n",
       "      <th>5143</th>\n",
       "      <td>EOS3</td>\n",
       "      <td>8630611</td>\n",
       "      <td>2024-04-02T23:58:26.110000</td>\n",
       "      <td>0.464</td>\n",
       "      <td>P</td>\n",
       "      <td>0.01</td>\n",
       "      <td>18510.00</td>\n",
       "      <td>24</td>\n",
       "      <td>0.129939</td>\n",
       "    </tr>\n",
       "    <tr>\n",
       "      <th>5145</th>\n",
       "      <td>WCKO</td>\n",
       "      <td>8630947</td>\n",
       "      <td>2024-04-02T23:58:29.470000</td>\n",
       "      <td>0.453</td>\n",
       "      <td>P</td>\n",
       "      <td>0.01</td>\n",
       "      <td>1876000.00</td>\n",
       "      <td>24</td>\n",
       "      <td>0.000077</td>\n",
       "    </tr>\n",
       "    <tr>\n",
       "      <th>5147</th>\n",
       "      <td>TPUB</td>\n",
       "      <td>8630996</td>\n",
       "      <td>2024-04-02T23:58:29.968000</td>\n",
       "      <td>0.508</td>\n",
       "      <td>P</td>\n",
       "      <td>0.01</td>\n",
       "      <td>3706000.00</td>\n",
       "      <td>24</td>\n",
       "      <td>0.108285</td>\n",
       "    </tr>\n",
       "  </tbody>\n",
       "</table>\n",
       "</div>"
      ],
      "text/plain": [
       "     station_id  phase_index                  phase_time  phase_score  \\\n",
       "5123       SM06      8629344  2024-04-02T23:58:14.200000        0.853   \n",
       "5124       SHUL      8629457  2024-04-02T23:58:14.570000        0.364   \n",
       "5125        HWA      8629467  2024-04-02T23:58:14.670000        0.443   \n",
       "5126       SM02      8629361  2024-04-02T23:58:15.010000        0.813   \n",
       "5127       SM39      8629509  2024-04-02T23:58:15.180000        0.794   \n",
       "5128       SM09      8629465  2024-04-02T23:58:15.260000        0.736   \n",
       "5129       NACB      8629703  2024-04-02T23:58:17.038000        0.567   \n",
       "5130       SM39      8629798  2024-04-02T23:58:18.070000        0.436   \n",
       "5131       SM02      8629670  2024-04-02T23:58:18.100000        0.332   \n",
       "5132       EHYH      8629854  2024-04-02T23:58:18.540000        0.555   \n",
       "5133       HGSD      8629939  2024-04-02T23:58:19.390000        0.419   \n",
       "5134       WUSB      8629947  2024-04-02T23:58:19.478000        0.454   \n",
       "5135       YULB      8630004  2024-04-02T23:58:20.048000        0.680   \n",
       "5136        EAH      8630015  2024-04-02T23:58:20.150000        0.368   \n",
       "5137       SSLB      8630159  2024-04-02T23:58:21.598000        0.408   \n",
       "5138       LATB      8630299  2024-04-02T23:58:22.998000        0.378   \n",
       "5139       EOS4      8630399  2024-04-02T23:58:23.990000        0.328   \n",
       "5140        ESA      8630465  2024-04-02T23:58:24.650000        0.405   \n",
       "5141       SYNB      8630400  2024-04-02T23:58:25.073000        0.545   \n",
       "5142        NDS      8630577  2024-04-02T23:58:25.770000        0.405   \n",
       "5143       EOS3      8630611  2024-04-02T23:58:26.110000        0.464   \n",
       "5145       WCKO      8630947  2024-04-02T23:58:29.470000        0.453   \n",
       "5147       TPUB      8630996  2024-04-02T23:58:29.968000        0.508   \n",
       "\n",
       "     phase_type  dt_s  phase_amplitude  event_index  gamma_score  \n",
       "5123          P  0.01         73940.00           24     0.272607  \n",
       "5124          P  0.01       6551000.00           24     0.100939  \n",
       "5125          P  0.01       5223000.00           24     0.141951  \n",
       "5126          P  0.01        162500.00           24     0.258484  \n",
       "5127          P  0.01        233100.00           24     0.261715  \n",
       "5128          P  0.01        144700.00           24     0.240031  \n",
       "5129          P  0.01      35380000.00           24     0.183315  \n",
       "5130          S  0.01        793900.00           24     0.099376  \n",
       "5131          S  0.01        407300.00           24     0.108741  \n",
       "5132          P  0.01        264300.00           24     0.164483  \n",
       "5133          P  0.01       4428000.00           24     0.102553  \n",
       "5134          P  0.01      12650000.00           24     0.149638  \n",
       "5135          P  0.01       1170000.00           24     0.164292  \n",
       "5136          P  0.01           930.20           24     0.121087  \n",
       "5137          P  0.01       1769000.00           24     0.133370  \n",
       "5138          P  0.01      10810000.00           24     0.117146  \n",
       "5139          P  0.01        899200.00           24     0.104893  \n",
       "5140          P  0.01            54.67           24     0.133314  \n",
       "5141          P  0.01       1228000.00           24     0.153724  \n",
       "5142          P  0.01       5466000.00           24     0.117222  \n",
       "5143          P  0.01         18510.00           24     0.129939  \n",
       "5145          P  0.01       1876000.00           24     0.000077  \n",
       "5147          P  0.01       3706000.00           24     0.108285  "
      ]
     },
     "execution_count": 9,
     "metadata": {},
     "output_type": "execute_result"
    }
   ],
   "source": [
    "df_picks = pd.read_csv(gamma.picks)\n",
    "df_picks[df_picks['event_index'] == 24]"
   ]
  },
  {
   "cell_type": "markdown",
   "metadata": {},
   "source": [
    "- H3DD"
   ]
  },
  {
   "cell_type": "code",
   "execution_count": 5,
   "metadata": {},
   "outputs": [
    {
     "data": {
      "text/plain": [
       "latitude                         23.876\n",
       "longitude                       121.552\n",
       "depth_km                          20.01\n",
       "time         2024-04-02T23:58:10.320000\n",
       "Name: 60, dtype: object"
      ]
     },
     "execution_count": 5,
     "metadata": {},
     "output_type": "execute_result"
    }
   ],
   "source": [
    "from autoquake.visualization._plot_base import check_format\n",
    "df_h3dd, _ = check_format(result_path/f'{result_path.name}.dat_ch.hout')\n",
    "df_h3dd.iloc[-1]"
   ]
  },
  {
   "cell_type": "markdown",
   "metadata": {},
   "source": [
    "> **⚠️ Important:**  Once you understand the flow, please use python script to run it, jupyter notebook might crash due to the high memory loading."
   ]
  },
  {
   "cell_type": "markdown",
   "metadata": {},
   "source": [
    "- polarity"
   ]
  },
  {
   "cell_type": "markdown",
   "metadata": {},
   "source": [
    "#### DAS"
   ]
  },
  {
   "cell_type": "code",
   "execution_count": 1,
   "metadata": {},
   "outputs": [],
   "source": [
    "from pathlib import Path\n",
    "result_path = Path('/home/patrick/Work/AutoQuake/testset_DAS')\n",
    "h5_parent_dir = Path(\"/raid1/share/for_patrick/AutoQuake_testset/hdf5/\")\n",
    "startdate = '20240401'\n",
    "enddate = '20240403'\n",
    "station = Path('/home/patrick/Work/EQNet/tests/hualien_0403/station_das.csv')\n",
    "model_3d = Path('/home/patrick/Work/AutoQuake/H3DD/tomops_H14')\n",
    "gamma_vel_model_1 = Path('/home/patrick/Work/AutoQuake/vel_model/midas_vel.csv')\n",
    "gamma_vel_model_2 = Path(\n",
    "    '/home/patrick/Work/AutoQuake_pamicoding/GaMMA/Hualien_data_20240402/Hualien_1D.vel'\n",
    ")"
   ]
  },
  {
   "cell_type": "code",
   "execution_count": 2,
   "metadata": {},
   "outputs": [
    {
     "name": "stdout",
     "output_type": "stream",
     "text": [
      "Not using distributed modeNot using distributed mode\n",
      "Not using distributed mode\n",
      "\n",
      "Total samples: 0 files\n",
      "Total samples: 0 files\n"
     ]
    },
    {
     "name": "stderr",
     "output_type": "stream",
     "text": [
      "Predicting: 0it [00:00, ?it/s]\n",
      "Predicting: 0it [00:00, ?it/s]\n"
     ]
    },
    {
     "ename": "UnicodeDecodeError",
     "evalue": "'utf-8' codec can't decode byte 0x89 in position 0: invalid start byte",
     "output_type": "error",
     "traceback": [
      "\u001b[0;31m---------------------------------------------------------------------------\u001b[0m",
      "\u001b[0;31mRemoteTraceback\u001b[0m                           Traceback (most recent call last)",
      "\u001b[0;31mRemoteTraceback\u001b[0m: \n\"\"\"\nTraceback (most recent call last):\n  File \"/home/patrick/.conda/envs/AutoQuake_00/lib/python3.10/multiprocessing/pool.py\", line 125, in worker\n    result = (True, func(*args, **kwds))\n  File \"/home/patrick/.conda/envs/AutoQuake_00/lib/python3.10/multiprocessing/pool.py\", line 48, in mapstar\n    return list(map(*args))\n  File \"/data2/patrick/AutoQuake/autoquake/picker.py\", line 648, in predict\n    dataset = DASIterableDataset(\n  File \"/data2/patrick/AutoQuake/autoquake/EQNet/eqnet/data/das.py\", line 536, in __init__\n    self.data_list += f.read().rstrip(\"\\n\").split(\"\\n\")\n  File \"/home/patrick/.conda/envs/AutoQuake_00/lib/python3.10/codecs.py\", line 322, in decode\n    (result, consumed) = self._buffer_decode(data, self.errors, final)\nUnicodeDecodeError: 'utf-8' codec can't decode byte 0x89 in position 0: invalid start byte\n\"\"\"",
      "\nThe above exception was the direct cause of the following exception:\n",
      "\u001b[0;31mUnicodeDecodeError\u001b[0m                        Traceback (most recent call last)",
      "Input \u001b[0;32mIn [2]\u001b[0m, in \u001b[0;36m<cell line: 12>\u001b[0;34m()\u001b[0m\n\u001b[1;32m      1\u001b[0m \u001b[38;5;28;01mfrom\u001b[39;00m \u001b[38;5;21;01mautoquake\u001b[39;00m\u001b[38;5;21;01m.\u001b[39;00m\u001b[38;5;21;01mpicker\u001b[39;00m \u001b[38;5;28;01mimport\u001b[39;00m PhaseNet\n\u001b[1;32m      3\u001b[0m phasenet \u001b[38;5;241m=\u001b[39m PhaseNet(\n\u001b[1;32m      4\u001b[0m     data_parent_dir\u001b[38;5;241m=\u001b[39mh5_parent_dir,\n\u001b[1;32m      5\u001b[0m     start_ymd\u001b[38;5;241m=\u001b[39mstartdate,\n\u001b[0;32m   (...)\u001b[0m\n\u001b[1;32m     10\u001b[0m     device\u001b[38;5;241m=\u001b[39m\u001b[38;5;124m'\u001b[39m\u001b[38;5;124mcpu\u001b[39m\u001b[38;5;124m'\u001b[39m,\n\u001b[1;32m     11\u001b[0m )\n\u001b[0;32m---> 12\u001b[0m \u001b[43mphasenet\u001b[49m\u001b[38;5;241;43m.\u001b[39;49m\u001b[43mrun_predict\u001b[49m\u001b[43m(\u001b[49m\u001b[43m)\u001b[49m\n",
      "File \u001b[0;32m/data2/patrick/AutoQuake/autoquake/picker.py:750\u001b[0m, in \u001b[0;36mPhaseNet.run_predict\u001b[0;34m(self, processes)\u001b[0m\n\u001b[1;32m    748\u001b[0m \u001b[38;5;28;01mdef\u001b[39;00m \u001b[38;5;21mrun_predict\u001b[39m(\u001b[38;5;28mself\u001b[39m, processes\u001b[38;5;241m=\u001b[39m\u001b[38;5;241m3\u001b[39m):\n\u001b[1;32m    749\u001b[0m     \u001b[38;5;28;01mwith\u001b[39;00m multiprocessing\u001b[38;5;241m.\u001b[39mPool(processes\u001b[38;5;241m=\u001b[39mprocesses) \u001b[38;5;28;01mas\u001b[39;00m pool:\n\u001b[0;32m--> 750\u001b[0m         \u001b[43mpool\u001b[49m\u001b[38;5;241;43m.\u001b[39;49m\u001b[43mmap\u001b[49m\u001b[43m(\u001b[49m\u001b[38;5;28;43mself\u001b[39;49m\u001b[38;5;241;43m.\u001b[39;49m\u001b[43mpredict\u001b[49m\u001b[43m,\u001b[49m\u001b[43m \u001b[49m\u001b[38;5;28;43mself\u001b[39;49m\u001b[38;5;241;43m.\u001b[39;49m\u001b[43margs_list\u001b[49m\u001b[43m)\u001b[49m\n\u001b[1;32m    751\u001b[0m     \u001b[38;5;28mself\u001b[39m\u001b[38;5;241m.\u001b[39mconcat_picks()\n",
      "File \u001b[0;32m~/.conda/envs/AutoQuake_00/lib/python3.10/multiprocessing/pool.py:367\u001b[0m, in \u001b[0;36mPool.map\u001b[0;34m(self, func, iterable, chunksize)\u001b[0m\n\u001b[1;32m    362\u001b[0m \u001b[38;5;28;01mdef\u001b[39;00m \u001b[38;5;21mmap\u001b[39m(\u001b[38;5;28mself\u001b[39m, func, iterable, chunksize\u001b[38;5;241m=\u001b[39m\u001b[38;5;28;01mNone\u001b[39;00m):\n\u001b[1;32m    363\u001b[0m \u001b[38;5;250m    \u001b[39m\u001b[38;5;124;03m'''\u001b[39;00m\n\u001b[1;32m    364\u001b[0m \u001b[38;5;124;03m    Apply `func` to each element in `iterable`, collecting the results\u001b[39;00m\n\u001b[1;32m    365\u001b[0m \u001b[38;5;124;03m    in a list that is returned.\u001b[39;00m\n\u001b[1;32m    366\u001b[0m \u001b[38;5;124;03m    '''\u001b[39;00m\n\u001b[0;32m--> 367\u001b[0m     \u001b[38;5;28;01mreturn\u001b[39;00m \u001b[38;5;28;43mself\u001b[39;49m\u001b[38;5;241;43m.\u001b[39;49m\u001b[43m_map_async\u001b[49m\u001b[43m(\u001b[49m\u001b[43mfunc\u001b[49m\u001b[43m,\u001b[49m\u001b[43m \u001b[49m\u001b[43miterable\u001b[49m\u001b[43m,\u001b[49m\u001b[43m \u001b[49m\u001b[43mmapstar\u001b[49m\u001b[43m,\u001b[49m\u001b[43m \u001b[49m\u001b[43mchunksize\u001b[49m\u001b[43m)\u001b[49m\u001b[38;5;241;43m.\u001b[39;49m\u001b[43mget\u001b[49m\u001b[43m(\u001b[49m\u001b[43m)\u001b[49m\n",
      "File \u001b[0;32m~/.conda/envs/AutoQuake_00/lib/python3.10/multiprocessing/pool.py:774\u001b[0m, in \u001b[0;36mApplyResult.get\u001b[0;34m(self, timeout)\u001b[0m\n\u001b[1;32m    772\u001b[0m     \u001b[38;5;28;01mreturn\u001b[39;00m \u001b[38;5;28mself\u001b[39m\u001b[38;5;241m.\u001b[39m_value\n\u001b[1;32m    773\u001b[0m \u001b[38;5;28;01melse\u001b[39;00m:\n\u001b[0;32m--> 774\u001b[0m     \u001b[38;5;28;01mraise\u001b[39;00m \u001b[38;5;28mself\u001b[39m\u001b[38;5;241m.\u001b[39m_value\n",
      "\u001b[0;31mUnicodeDecodeError\u001b[0m: 'utf-8' codec can't decode byte 0x89 in position 0: invalid start byte"
     ]
    }
   ],
   "source": [
    "from autoquake.picker import PhaseNet\n",
    "\n",
    "phasenet = PhaseNet(\n",
    "    data_parent_dir=h5_parent_dir,\n",
    "    start_ymd=startdate,\n",
    "    end_ymd=enddate,\n",
    "    result_path=result_path,\n",
    "    format='h5',\n",
    "    model='phasenet_das',\n",
    "    device='cpu',\n",
    ")\n",
    "phasenet.run_predict()"
   ]
  }
 ],
 "metadata": {
  "kernelspec": {
   "display_name": "AutoQuake_00",
   "language": "python",
   "name": "python3"
  },
  "language_info": {
   "codemirror_mode": {
    "name": "ipython",
    "version": 3
   },
   "file_extension": ".py",
   "mimetype": "text/x-python",
   "name": "python",
   "nbconvert_exporter": "python",
   "pygments_lexer": "ipython3",
   "version": "3.10.13"
  }
 },
 "nbformat": 4,
 "nbformat_minor": 2
}
