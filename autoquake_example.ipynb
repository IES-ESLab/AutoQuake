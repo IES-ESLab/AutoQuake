{
 "cells": [
  {
   "cell_type": "markdown",
   "metadata": {},
   "source": [
    "### Run AutoQuake\n",
    "#### Directory structure\n",
    "##### SAC data (sac_parent_dir / date / *.SAC)\n",
    "```\n",
    "SAC/ -> sac_parent_dir     \n",
    "└── 20240401/ -> date      \n",
    "    ├── TW.station.00.HHZ.D.2024,093,20:22:12.SAC     \n",
    "    └── TW.station.00.HHZ.D.2024,093,22:35:17.SAC            \n",
    "```\n",
    "##### HDF5 (h5_parent_dir / date / time_window.h5)\n",
    "```\n",
    "Hualien_0403_MiDAS/ -> h5_parent_dir     \n",
    "└── 20240401/ -> date       \n",
    "    ├── MiDAS_20240403_80700_81000.h5 -> time_window.h5     \n",
    "    └── MiDAS_20240403_8100_8400.h5 \n",
    "```\n",
    "##### PZ file (pz_dir / *.pz)\n",
    "```\n",
    "pz_dir/ -> pz_dir     \n",
    "├── SAC_PZs_TW_ZUZH_HH1_00_2019.001.00.00.00.0000_2599.365.23.59.59.99999\n",
    "└── SAC_PZs_TW_ZUZH_HNZ_10_2019.001.00.00.00.0000_2599.365.23.59.59.99999\n",
    "```\n",
    "Date would acquire througth the reading of the gamma_events.csv from GaMMA.  \n",
    "The reason why we need date is to automatically find the sac data due to we might have the events across the day."
   ]
  },
  {
   "cell_type": "markdown",
   "metadata": {},
   "source": [
    "### Scenarios (Seiemomter only, ~~DAS only, Both~~)\n",
    "#### Seismometer only\n"
   ]
  },
  {
   "cell_type": "markdown",
   "metadata": {},
   "source": [
    "1. Define the **Path** and some important parameters for later use."
   ]
  },
  {
   "cell_type": "code",
   "execution_count": null,
   "metadata": {},
   "outputs": [],
   "source": [
    "from pathlib import Path\n",
    "\n",
    "result_path = Path('/home/patrick/Work/AutoQuake/testset_1029')\n",
    "sac_parent_dir = Path('/raid1/share/for_patrick/AutoQuake_testset/SAC') # this is the testset, u can try it.\n",
    "startdate = '20240401'\n",
    "enddate = '20240403'\n",
    "station = Path('/home/patrick/Work/EQNet/tests/hualien_0403/station_seis.csv')\n",
    "pz_dir = Path('/raid1/share/for_patrick/AutoQuake_testset/PZ_dir/')\n",
    "model_3d = Path('/home/patrick/Work/AutoQuake/H3DD/tomops_H14')\n",
    "gamma_vel_model = Path('/home/patrick/Work/AutoQuake_pamicoding/GaMMA/Hualien_data_20240402/Hualien_1D.vel')"
   ]
  },
  {
   "cell_type": "markdown",
   "metadata": {},
   "source": [
    "2. Create the object for each step.      \n",
    "-  PhaseNet, GaMMA, H3DD     \n",
    "       \n",
    "Please check the detailed argument in the class if u want further manipulation, or you can just put your mouse on the PhaseNet object to see its docstring supported by VScode."
   ]
  },
  {
   "cell_type": "code",
   "execution_count": null,
   "metadata": {},
   "outputs": [],
   "source": [
    "from autoquake.picker import PhaseNet\n",
    "from autoquake.associator import GaMMA\n",
    "from autoquake.relocator import H3DD\n",
    "\n",
    "phasenet = PhaseNet(\n",
    "    data_parent_dir=sac_parent_dir,\n",
    "    start_ymd=startdate,\n",
    "    end_ymd=enddate,\n",
    "    result_path=result_path,\n",
    "    format='SAC',\n",
    "    model='phasenet',\n",
    "    device='cpu',\n",
    ")\n",
    "\n",
    "gamma = GaMMA(\n",
    "    station=station,\n",
    "    result_path=result_path,\n",
    "    pickings=phasenet.picks,\n",
    "    vel_model=gamma_vel_model,\n",
    ")\n",
    "\n",
    "h3dd = H3DD(\n",
    "    gamma_event=gamma.events,\n",
    "    gamma_picks=gamma.picks,\n",
    "    station=gamma.station,\n",
    "    model_3d=model_3d,\n",
    "    event_name=result_path.name,\n",
    ")"
   ]
  },
  {
   "cell_type": "markdown",
   "metadata": {},
   "source": [
    "3. Run it through default scenario: AutoQuake       \n",
    "> **⚠️ Important:** Since the important parameter setting only on **PhaseNet**, **GaMMA**, and **H3DD**, you can just put the object of these three steps into the run_autoquake function, and providing a **PZ_dir** contains the pz file. The **magnitude**, **polarity**, also **GAfocal** would use the result from these steps."
   ]
  },
  {
   "cell_type": "code",
   "execution_count": null,
   "metadata": {},
   "outputs": [],
   "source": [
    "from autoquake.scenarios import run_autoquake\n",
    "run_autoquake(\n",
    "    picker=phasenet,\n",
    "    associator=gamma,\n",
    "    relocator=h3dd,\n",
    "    pz_dir=pz_dir,\n",
    "    use_polarity=True, # default as True\n",
    "    use_magnitude=True, # default as True\n",
    "    use_focal=True # default as True\n",
    ")"
   ]
  },
  {
   "cell_type": "markdown",
   "metadata": {},
   "source": [
    "> **⚠️ Important:**  Once you understand the flow, please use python script to run it, jupyter notebook might crash due to the high memory loading."
   ]
  }
 ],
 "metadata": {
  "language_info": {
   "name": "python"
  }
 },
 "nbformat": 4,
 "nbformat_minor": 2
}
